import numpy as np
import matplotlib.pyplot as plt
from mpl_toolkits.mplot3d import Axes3D
from matplotlib.animation import FuncAnimation
import matplotlib

# 设置渲染后端
matplotlib.use('Agg')

# 生成数据
np.random.seed(42)
n_samples = 5000
mu = np.array([0, 0, 0])
Sigma = np.array([
    [3.0, 1.0, 0.5],
    [1.0, 2.0, 0.3],
    [0.5, 0.3, 1.0]
])

z = np.random.randn(3, n_samples)
L = np.linalg.cholesky(Sigma)
x = mu[:, np.newaxis] + L @ z

# 创建图形
fig = plt.figure(figsize=(8, 8))
ax = fig.add_subplot(111, projection='3d')

# 绘制散点图
scatter = ax.scatter(x[0], x[1], x[2], c='royalblue', s=5, alpha=0.6, edgecolors='none')

# 设置坐标轴标签和标题
ax.set_xlabel('X Axis')
ax.set_ylabel('Y Axis')
ax.set_zlabel('Z Axis')
ax.set_title('3D Normal Distribution: N(μ, Σ)')

# 调整坐标轴范围
max_range = np.max([np.ptp(x[0]), np.ptp(x[1]), np.ptp(x[2])]) / 2
mean_vals = np.mean(x, axis=1)
ax.set_xlim(mean_vals[0] - max_range, mean_vals[0] + max_range)
ax.set_ylim(mean_vals[1] - max_range, mean_vals[1] + max_range)
ax.set_zlim(mean_vals[2] - max_range, mean_vals[2] + max_range)

# 初始视角
ax.view_init(elev=20, azim=0)

# 定义更新函数，用于动画
def update(frame):
    ax.view_init(elev=20, azim=frame)
    return scatter,

# 创建动画
ani = FuncAnimation(fig, update, frames=np.linspace(0, 360, 100), 
                    interval=100, blit=True)

# 保存为GIF
ani.save('3d_normal_distribution.gif', writer='pillow', fps=10, dpi=100)

# 关闭图形
plt.close()

print("动画已保存为 3d_normal_distribution.gif")
